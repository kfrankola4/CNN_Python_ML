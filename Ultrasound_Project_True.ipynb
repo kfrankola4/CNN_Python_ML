{
 "cells": [
  {
   "cell_type": "code",
   "execution_count": 1,
   "metadata": {
    "collapsed": true
   },
   "outputs": [],
   "source": [
    "#kevin frankola\n",
    "\n",
    "#method:\n",
    "#using tensorflow api (primarily) to create a convoluted\n",
    "#neural network for the intention of determining if\n",
    "#ultrasound images of nerves are positive for condition or negative\n",
    "#every image in the training set contains a secondary image highlighting\n",
    "#the location of the condition (in all white) or the secondary image\n",
    "#is all black indicating that there is no condition present\n",
    "\n",
    "#the test dataset contains only ultrasound images of nerves with no\n",
    "#secondary images"
   ]
  },
  {
   "cell_type": "code",
   "execution_count": 2,
   "metadata": {
    "collapsed": true
   },
   "outputs": [],
   "source": [
    "#bring in the necessary libraries\n",
    "#going to use __future__ just for compatibility reasons, might change later\n",
    "\n",
    "from __future__ import division, print_function, absolute_import\n",
    "#tf learn will be used for the work on the data, pickle will be used to load\n",
    "#the data. pandas might be used to analyze the results\n",
    "import tflearn as tfl\n",
    "import pickle as pkl\n",
    "#import pandas as pd\n"
   ]
  },
  {
   "cell_type": "code",
   "execution_count": null,
   "metadata": {
    "collapsed": true
   },
   "outputs": [],
   "source": [
    "#load the training data\n",
    "#note, I will either call a script to pickle the data or just run it seperately\n",
    "\n",
    "#test data will be delt with later since the network must be\n",
    "#trained first regardless\n"
   ]
  },
  {
   "cell_type": "code",
   "execution_count": null,
   "metadata": {
    "collapsed": true
   },
   "outputs": [],
   "source": [
    "#preprocessing of data:\n",
    "\n",
    "#shuffle the data\n",
    "\n",
    "#normalize the data\n",
    "\n",
    "#might implement design of creating synthetic training data\n",
    "#this will be done by blurring, flipping, rotating, or otherwise \n",
    "#\"messing\" with the data as given to ensure that the trained network is\n",
    "#capable of handling future data that is unpredicted\n",
    "#note, the secondary images associated with the primary image won't be\n",
    "#obscured - unless it is in parallel to the primary (rotated in the same\n",
    "#fashion, etc...)\n"
   ]
  },
  {
   "cell_type": "code",
   "execution_count": null,
   "metadata": {
    "collapsed": true
   },
   "outputs": [],
   "source": [
    "#defining the actual archecture of the neural network"
   ]
  },
  {
   "cell_type": "code",
   "execution_count": null,
   "metadata": {
    "collapsed": true
   },
   "outputs": [],
   "source": [
    "#note the following modules should be RUN IN SEQUENCE!!!"
   ]
  },
  {
   "cell_type": "code",
   "execution_count": null,
   "metadata": {
    "collapsed": true
   },
   "outputs": [],
   "source": [
    "# 1 - convolution"
   ]
  },
  {
   "cell_type": "code",
   "execution_count": null,
   "metadata": {
    "collapsed": true
   },
   "outputs": [],
   "source": [
    "# 2 - max pooling"
   ]
  },
  {
   "cell_type": "code",
   "execution_count": null,
   "metadata": {
    "collapsed": true
   },
   "outputs": [],
   "source": [
    "# 3 - convolution"
   ]
  },
  {
   "cell_type": "code",
   "execution_count": null,
   "metadata": {
    "collapsed": true
   },
   "outputs": [],
   "source": [
    "# 4 - convolution"
   ]
  },
  {
   "cell_type": "code",
   "execution_count": null,
   "metadata": {
    "collapsed": true
   },
   "outputs": [],
   "source": [
    "# 5 - max pooling"
   ]
  },
  {
   "cell_type": "code",
   "execution_count": null,
   "metadata": {
    "collapsed": true
   },
   "outputs": [],
   "source": [
    "# 6 - fully connected nodal neural network"
   ]
  },
  {
   "cell_type": "code",
   "execution_count": null,
   "metadata": {
    "collapsed": true
   },
   "outputs": [],
   "source": [
    "# 7 - drop some random data (preventing over-fitting)"
   ]
  },
  {
   "cell_type": "code",
   "execution_count": null,
   "metadata": {
    "collapsed": true
   },
   "outputs": [],
   "source": [
    "# 8 - fully connected nodal neural network with binary output"
   ]
  },
  {
   "cell_type": "code",
   "execution_count": null,
   "metadata": {
    "collapsed": true
   },
   "outputs": [],
   "source": [
    "# 9 - instruct tflearn the regression method"
   ]
  },
  {
   "cell_type": "code",
   "execution_count": null,
   "metadata": {
    "collapsed": true
   },
   "outputs": [],
   "source": [
    "# 10 - wrap the network in a model object"
   ]
  },
  {
   "cell_type": "code",
   "execution_count": null,
   "metadata": {
    "collapsed": true
   },
   "outputs": [],
   "source": [
    "# 11 - do training on the model that was created (unsure how many passes)"
   ]
  },
  {
   "cell_type": "code",
   "execution_count": 3,
   "metadata": {
    "collapsed": true
   },
   "outputs": [],
   "source": [
    "# 12 - save the model to a file (note this may happen before the training\n",
    "# since my host OS has the GPU not my guest)"
   ]
  },
  {
   "cell_type": "code",
   "execution_count": null,
   "metadata": {
    "collapsed": true
   },
   "outputs": [],
   "source": [
    "# now that we have a model, we will have pass it the test set"
   ]
  }
 ],
 "metadata": {
  "kernelspec": {
   "display_name": "Python 3",
   "language": "python",
   "name": "python3"
  },
  "language_info": {
   "codemirror_mode": {
    "name": "ipython",
    "version": 3
   },
   "file_extension": ".py",
   "mimetype": "text/x-python",
   "name": "python",
   "nbconvert_exporter": "python",
   "pygments_lexer": "ipython3",
   "version": "3.5.1"
  }
 },
 "nbformat": 4,
 "nbformat_minor": 0
}
